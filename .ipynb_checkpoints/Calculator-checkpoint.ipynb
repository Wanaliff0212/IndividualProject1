{
 "cells": [
  {
   "cell_type": "code",
   "execution_count": 3,
   "id": "230afa0b-a414-4765-b278-d3af2485db51",
   "metadata": {},
   "outputs": [
    {
     "name": "stdin",
     "output_type": "stream",
     "text": [
      "Enter the first integer (A):  5\n",
      "Enter the second integer (B):  4\n",
      "Enter the operator (+, -, *, /):  -\n"
     ]
    },
    {
     "name": "stdout",
     "output_type": "stream",
     "text": [
      "5 - 4 = 1\n"
     ]
    },
    {
     "name": "stdin",
     "output_type": "stream",
     "text": [
      "Do you want to perform another calculation? (yes/no):  yes\n",
      "Enter the first integer (A):  8\n",
      "Enter the second integer (B):  5\n",
      "Enter the operator (+, -, *, /):  *\n"
     ]
    },
    {
     "name": "stdout",
     "output_type": "stream",
     "text": [
      "8 * 5 = 40\n"
     ]
    },
    {
     "name": "stdin",
     "output_type": "stream",
     "text": [
      "Do you want to perform another calculation? (yes/no):  no\n"
     ]
    }
   ],
   "source": [
    "# Function to perform addition\n",
    "def add(x, y):\n",
    "    return x + y\n",
    "\n",
    "# Function to perform subtraction\n",
    "def subtract(x, y):\n",
    "    return x - y\n",
    "\n",
    "# Function to perform multiplication\n",
    "def multiply(x, y):\n",
    "    return x * y\n",
    "\n",
    "# Function to perform division\n",
    "def divide(x, y):\n",
    "    if y == 0:\n",
    "        return \"Error: Division by zero!\"\n",
    "    else:\n",
    "        return x / y\n",
    "\n",
    "# Function to handle user input and perform calculations\n",
    "def calculator():\n",
    "    while True:\n",
    "        # Get user input for A and B\n",
    "        A = int(input(\"Enter the first integer (A): \"))\n",
    "        B = int(input(\"Enter the second integer (B): \"))\n",
    "        \n",
    "        # Get the operator choice from user\n",
    "        operator = input(\"Enter the operator (+, -, *, /): \")\n",
    "        \n",
    "        # Perform calculation based on operator\n",
    "        if operator == '+':\n",
    "            result = add(A, B)\n",
    "        elif operator == '-':\n",
    "            result = subtract(A, B)\n",
    "        elif operator == '*':\n",
    "            result = multiply(A, B)\n",
    "        elif operator == '/':\n",
    "            result = divide(A, B)\n",
    "        else:\n",
    "            result = \"Invalid operator\"\n",
    "        \n",
    "        # Display the result\n",
    "        print(f\"{A} {operator} {B} = {result}\")\n",
    "        \n",
    "        # Ask if user wants to perform another calculation\n",
    "        another_calculation = input(\"Do you want to perform another calculation? (yes/no): \").lower()\n",
    "        if another_calculation != \"yes\":\n",
    "            break  # Exit the loop if user enters anything other than \"yes\"\n",
    "\n",
    "# Main program\n",
    "calculator()\n"
   ]
  },
  {
   "cell_type": "code",
   "execution_count": null,
   "id": "3b60b8fc-59e4-484e-9d7f-359de5b02068",
   "metadata": {},
   "outputs": [],
   "source": []
  }
 ],
 "metadata": {
  "kernelspec": {
   "display_name": "Python 3 (ipykernel)",
   "language": "python",
   "name": "python3"
  },
  "language_info": {
   "codemirror_mode": {
    "name": "ipython",
    "version": 3
   },
   "file_extension": ".py",
   "mimetype": "text/x-python",
   "name": "python",
   "nbconvert_exporter": "python",
   "pygments_lexer": "ipython3",
   "version": "3.12.4"
  }
 },
 "nbformat": 4,
 "nbformat_minor": 5
}
